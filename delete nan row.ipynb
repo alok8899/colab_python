{
 "cells": [
  {
   "cell_type": "markdown",
   "metadata": {},
   "source": [
    "# question"
   ]
  },
  {
   "cell_type": "code",
   "execution_count": 1,
   "metadata": {
    "scrolled": true
   },
   "outputs": [
    {
     "data": {
      "text/html": [
       "<div>\n",
       "<style scoped>\n",
       "    .dataframe tbody tr th:only-of-type {\n",
       "        vertical-align: middle;\n",
       "    }\n",
       "\n",
       "    .dataframe tbody tr th {\n",
       "        vertical-align: top;\n",
       "    }\n",
       "\n",
       "    .dataframe thead th {\n",
       "        text-align: right;\n",
       "    }\n",
       "</style>\n",
       "<table border=\"1\" class=\"dataframe\">\n",
       "  <thead>\n",
       "    <tr style=\"text-align: right;\">\n",
       "      <th></th>\n",
       "      <th>Unnamed: 0</th>\n",
       "      <th>Category</th>\n",
       "      <th>Age</th>\n",
       "      <th>Sex</th>\n",
       "      <th>ALB</th>\n",
       "      <th>ALP</th>\n",
       "      <th>ALT</th>\n",
       "      <th>AST</th>\n",
       "      <th>BIL</th>\n",
       "      <th>CHE</th>\n",
       "      <th>CHOL</th>\n",
       "      <th>CREA</th>\n",
       "      <th>GGT</th>\n",
       "      <th>PROT</th>\n",
       "    </tr>\n",
       "  </thead>\n",
       "  <tbody>\n",
       "    <tr>\n",
       "      <th>0</th>\n",
       "      <td>1</td>\n",
       "      <td>0=Blood Donor</td>\n",
       "      <td>32</td>\n",
       "      <td>m</td>\n",
       "      <td>38.5</td>\n",
       "      <td>52.5</td>\n",
       "      <td>7.7</td>\n",
       "      <td>22.1</td>\n",
       "      <td>7.5</td>\n",
       "      <td>6.93</td>\n",
       "      <td>3.23</td>\n",
       "      <td>106.0</td>\n",
       "      <td>12.1</td>\n",
       "      <td>69.0</td>\n",
       "    </tr>\n",
       "    <tr>\n",
       "      <th>1</th>\n",
       "      <td>2</td>\n",
       "      <td>0=Blood Donor</td>\n",
       "      <td>32</td>\n",
       "      <td>m</td>\n",
       "      <td>38.5</td>\n",
       "      <td>70.3</td>\n",
       "      <td>18.0</td>\n",
       "      <td>24.7</td>\n",
       "      <td>3.9</td>\n",
       "      <td>11.17</td>\n",
       "      <td>4.80</td>\n",
       "      <td>74.0</td>\n",
       "      <td>15.6</td>\n",
       "      <td>76.5</td>\n",
       "    </tr>\n",
       "  </tbody>\n",
       "</table>\n",
       "</div>"
      ],
      "text/plain": [
       "   Unnamed: 0       Category  Age Sex   ALB   ALP   ALT   AST  BIL    CHE  \\\n",
       "0           1  0=Blood Donor   32   m  38.5  52.5   7.7  22.1  7.5   6.93   \n",
       "1           2  0=Blood Donor   32   m  38.5  70.3  18.0  24.7  3.9  11.17   \n",
       "\n",
       "   CHOL   CREA   GGT  PROT  \n",
       "0  3.23  106.0  12.1  69.0  \n",
       "1  4.80   74.0  15.6  76.5  "
      ]
     },
     "execution_count": 1,
     "metadata": {},
     "output_type": "execute_result"
    }
   ],
   "source": [
    "import pandas as pd\n",
    "corpus=pd.read_csv('D:\\\\Python_test\\\\hcvdat0.csv')\n",
    "corpus.head(2)"
   ]
  },
  {
   "cell_type": "code",
   "execution_count": 2,
   "metadata": {
    "scrolled": true
   },
   "outputs": [
    {
     "data": {
      "text/plain": [
       "Index(['Unnamed: 0', 'Category', 'Age', 'Sex', 'ALB', 'ALP', 'ALT', 'AST',\n",
       "       'BIL', 'CHE', 'CHOL', 'CREA', 'GGT', 'PROT'],\n",
       "      dtype='object')"
      ]
     },
     "execution_count": 2,
     "metadata": {},
     "output_type": "execute_result"
    }
   ],
   "source": [
    "corpus.columns"
   ]
  },
  {
   "cell_type": "code",
   "execution_count": 3,
   "metadata": {
    "scrolled": true
   },
   "outputs": [
    {
     "data": {
      "text/html": [
       "<div>\n",
       "<style scoped>\n",
       "    .dataframe tbody tr th:only-of-type {\n",
       "        vertical-align: middle;\n",
       "    }\n",
       "\n",
       "    .dataframe tbody tr th {\n",
       "        vertical-align: top;\n",
       "    }\n",
       "\n",
       "    .dataframe thead th {\n",
       "        text-align: right;\n",
       "    }\n",
       "</style>\n",
       "<table border=\"1\" class=\"dataframe\">\n",
       "  <thead>\n",
       "    <tr style=\"text-align: right;\">\n",
       "      <th></th>\n",
       "      <th>Unnamed: 0</th>\n",
       "      <th>Category</th>\n",
       "      <th>Age</th>\n",
       "      <th>Sex</th>\n",
       "      <th>ALB</th>\n",
       "      <th>ALP</th>\n",
       "      <th>ALT</th>\n",
       "      <th>AST</th>\n",
       "      <th>BIL</th>\n",
       "      <th>CHE</th>\n",
       "      <th>CHOL</th>\n",
       "      <th>CREA</th>\n",
       "      <th>GGT</th>\n",
       "      <th>PROT</th>\n",
       "    </tr>\n",
       "  </thead>\n",
       "  <tbody>\n",
       "    <tr>\n",
       "      <th>53</th>\n",
       "      <td>54</td>\n",
       "      <td>0=Blood Donor</td>\n",
       "      <td>37</td>\n",
       "      <td>m</td>\n",
       "      <td>31.4</td>\n",
       "      <td>106.0</td>\n",
       "      <td>16.6</td>\n",
       "      <td>17.0</td>\n",
       "      <td>2.4</td>\n",
       "      <td>5.95</td>\n",
       "      <td>5.30</td>\n",
       "      <td>68.0</td>\n",
       "      <td>22.9</td>\n",
       "      <td>72.3</td>\n",
       "    </tr>\n",
       "    <tr>\n",
       "      <th>54</th>\n",
       "      <td>55</td>\n",
       "      <td>0=Blood Donor</td>\n",
       "      <td>37</td>\n",
       "      <td>m</td>\n",
       "      <td>42.9</td>\n",
       "      <td>70.7</td>\n",
       "      <td>16.3</td>\n",
       "      <td>24.1</td>\n",
       "      <td>15.7</td>\n",
       "      <td>9.03</td>\n",
       "      <td>6.80</td>\n",
       "      <td>93.0</td>\n",
       "      <td>70.1</td>\n",
       "      <td>73.4</td>\n",
       "    </tr>\n",
       "    <tr>\n",
       "      <th>55</th>\n",
       "      <td>56</td>\n",
       "      <td>0=Blood Donor</td>\n",
       "      <td>37</td>\n",
       "      <td>m</td>\n",
       "      <td>44.0</td>\n",
       "      <td>57.4</td>\n",
       "      <td>26.1</td>\n",
       "      <td>24.6</td>\n",
       "      <td>9.7</td>\n",
       "      <td>10.41</td>\n",
       "      <td>6.17</td>\n",
       "      <td>83.0</td>\n",
       "      <td>38.9</td>\n",
       "      <td>76.5</td>\n",
       "    </tr>\n",
       "    <tr>\n",
       "      <th>56</th>\n",
       "      <td>57</td>\n",
       "      <td>0=Blood Donor</td>\n",
       "      <td>37</td>\n",
       "      <td>m</td>\n",
       "      <td>41.5</td>\n",
       "      <td>64.6</td>\n",
       "      <td>23.7</td>\n",
       "      <td>29.9</td>\n",
       "      <td>9.3</td>\n",
       "      <td>5.49</td>\n",
       "      <td>3.97</td>\n",
       "      <td>100.0</td>\n",
       "      <td>10.4</td>\n",
       "      <td>69.3</td>\n",
       "    </tr>\n",
       "    <tr>\n",
       "      <th>57</th>\n",
       "      <td>58</td>\n",
       "      <td>0=Blood Donor</td>\n",
       "      <td>37</td>\n",
       "      <td>m</td>\n",
       "      <td>47.9</td>\n",
       "      <td>68.8</td>\n",
       "      <td>40.3</td>\n",
       "      <td>46.9</td>\n",
       "      <td>6.0</td>\n",
       "      <td>9.76</td>\n",
       "      <td>6.42</td>\n",
       "      <td>81.0</td>\n",
       "      <td>22.7</td>\n",
       "      <td>80.6</td>\n",
       "    </tr>\n",
       "  </tbody>\n",
       "</table>\n",
       "</div>"
      ],
      "text/plain": [
       "    Unnamed: 0       Category  Age Sex   ALB    ALP   ALT   AST   BIL    CHE  \\\n",
       "53          54  0=Blood Donor   37   m  31.4  106.0  16.6  17.0   2.4   5.95   \n",
       "54          55  0=Blood Donor   37   m  42.9   70.7  16.3  24.1  15.7   9.03   \n",
       "55          56  0=Blood Donor   37   m  44.0   57.4  26.1  24.6   9.7  10.41   \n",
       "56          57  0=Blood Donor   37   m  41.5   64.6  23.7  29.9   9.3   5.49   \n",
       "57          58  0=Blood Donor   37   m  47.9   68.8  40.3  46.9   6.0   9.76   \n",
       "\n",
       "    CHOL   CREA   GGT  PROT  \n",
       "53  5.30   68.0  22.9  72.3  \n",
       "54  6.80   93.0  70.1  73.4  \n",
       "55  6.17   83.0  38.9  76.5  \n",
       "56  3.97  100.0  10.4  69.3  \n",
       "57  6.42   81.0  22.7  80.6  "
      ]
     },
     "execution_count": 3,
     "metadata": {},
     "output_type": "execute_result"
    }
   ],
   "source": [
    "corpus.loc[corpus.Age>36].head()"
   ]
  },
  {
   "cell_type": "code",
   "execution_count": 4,
   "metadata": {
    "scrolled": true
   },
   "outputs": [
    {
     "data": {
      "text/html": [
       "<div>\n",
       "<style scoped>\n",
       "    .dataframe tbody tr th:only-of-type {\n",
       "        vertical-align: middle;\n",
       "    }\n",
       "\n",
       "    .dataframe tbody tr th {\n",
       "        vertical-align: top;\n",
       "    }\n",
       "\n",
       "    .dataframe thead th {\n",
       "        text-align: right;\n",
       "    }\n",
       "</style>\n",
       "<table border=\"1\" class=\"dataframe\">\n",
       "  <thead>\n",
       "    <tr style=\"text-align: right;\">\n",
       "      <th></th>\n",
       "      <th>Unnamed: 0</th>\n",
       "      <th>Category</th>\n",
       "      <th>Age</th>\n",
       "      <th>Sex</th>\n",
       "      <th>ALB</th>\n",
       "      <th>ALP</th>\n",
       "      <th>ALT</th>\n",
       "      <th>AST</th>\n",
       "      <th>BIL</th>\n",
       "      <th>CHE</th>\n",
       "      <th>CHOL</th>\n",
       "      <th>CREA</th>\n",
       "      <th>GGT</th>\n",
       "      <th>PROT</th>\n",
       "    </tr>\n",
       "  </thead>\n",
       "  <tbody>\n",
       "    <tr>\n",
       "      <th>43</th>\n",
       "      <td>44</td>\n",
       "      <td>0=Blood Donor</td>\n",
       "      <td>36</td>\n",
       "      <td>m</td>\n",
       "      <td>46.1</td>\n",
       "      <td>58.5</td>\n",
       "      <td>26.8</td>\n",
       "      <td>25.3</td>\n",
       "      <td>6.0</td>\n",
       "      <td>6.61</td>\n",
       "      <td>5.07</td>\n",
       "      <td>71.0</td>\n",
       "      <td>10.5</td>\n",
       "      <td>79.6</td>\n",
       "    </tr>\n",
       "    <tr>\n",
       "      <th>44</th>\n",
       "      <td>45</td>\n",
       "      <td>0=Blood Donor</td>\n",
       "      <td>36</td>\n",
       "      <td>m</td>\n",
       "      <td>45.5</td>\n",
       "      <td>57.6</td>\n",
       "      <td>22.5</td>\n",
       "      <td>19.5</td>\n",
       "      <td>7.5</td>\n",
       "      <td>5.28</td>\n",
       "      <td>4.06</td>\n",
       "      <td>88.0</td>\n",
       "      <td>62.5</td>\n",
       "      <td>71.6</td>\n",
       "    </tr>\n",
       "  </tbody>\n",
       "</table>\n",
       "</div>"
      ],
      "text/plain": [
       "    Unnamed: 0       Category  Age Sex   ALB   ALP   ALT   AST  BIL   CHE  \\\n",
       "43          44  0=Blood Donor   36   m  46.1  58.5  26.8  25.3  6.0  6.61   \n",
       "44          45  0=Blood Donor   36   m  45.5  57.6  22.5  19.5  7.5  5.28   \n",
       "\n",
       "    CHOL  CREA   GGT  PROT  \n",
       "43  5.07  71.0  10.5  79.6  \n",
       "44  4.06  88.0  62.5  71.6  "
      ]
     },
     "execution_count": 4,
     "metadata": {},
     "output_type": "execute_result"
    }
   ],
   "source": [
    "corpus.loc[corpus['Age']==36].head(2)"
   ]
  },
  {
   "cell_type": "code",
   "execution_count": 5,
   "metadata": {
    "scrolled": true
   },
   "outputs": [
    {
     "data": {
      "text/plain": [
       "array([[122, '0=Blood Donor', 43, 'm', 48.6, 45.0, 10.5, 40.5, 5.3, 7.09,\n",
       "        nan, 63.0, 25.1, 70.0],\n",
       "       [320, '0=Blood Donor', 32, 'f', 47.4, 52.5, 19.1, 17.1, 4.6,\n",
       "        10.19, nan, 63.0, 23.0, 72.2],\n",
       "       [330, '0=Blood Donor', 33, 'f', 42.4, 137.2, 14.2, 13.1, 3.4,\n",
       "        8.23, nan, 48.0, 25.7, 74.4],\n",
       "       [414, '0=Blood Donor', 46, 'f', 42.9, 55.1, 15.2, 29.8, 3.6, 8.37,\n",
       "        nan, 61.0, 29.0, 71.9],\n",
       "       [425, '0=Blood Donor', 48, 'f', 45.6, 107.2, 24.4, 39.0, 13.8,\n",
       "        9.77, nan, 88.0, 38.0, 75.1],\n",
       "       [434, '0=Blood Donor', 48, 'f', 46.8, 93.3, 10.0, 23.2, 4.3,\n",
       "        12.41, nan, 52.0, 23.9, 72.4],\n",
       "       [499, '0=Blood Donor', 57, 'f', 48.4, 94.4, 2.5, 39.6, 2.3, 8.84,\n",
       "        nan, 82.0, 6.4, 76.8],\n",
       "       [541, '1=Hepatitis', 38, 'm', 45.0, 56.3, nan, 33.1, 7.0, 9.58,\n",
       "        6.0, 77.9, 18.9, 63.0],\n",
       "       [542, '1=Hepatitis', 19, 'm', 41.0, nan, 87.0, 67.0, 12.0, 7.55,\n",
       "        3.9, 62.0, 65.0, 75.0],\n",
       "       [546, '1=Hepatitis', 29, 'm', 49.0, nan, 53.0, 39.0, 15.0, 8.79,\n",
       "        3.6, 79.0, 37.0, 90.0],\n",
       "       [547, '1=Hepatitis', 30, 'm', 45.0, nan, 66.0, 45.0, 14.0, 12.16,\n",
       "        6.1, 86.0, 43.0, 77.0],\n",
       "       [569, '2=Fibrosis', 49, 'm', 39.0, nan, 118.0, 62.0, 10.0, 7.28,\n",
       "        3.5, 72.0, 74.0, 81.0],\n",
       "       [570, '2=Fibrosis', 49, 'm', 46.0, nan, 114.0, 75.0, 16.0, 10.43,\n",
       "        5.2, 72.0, 59.0, 82.0],\n",
       "       [571, '2=Fibrosis', 50, 'm', 42.0, nan, 258.0, 106.0, 15.0, 8.74,\n",
       "        4.7, 77.0, 80.0, 84.0],\n",
       "       [572, '2=Fibrosis', 53, 'm', 46.0, nan, 34.0, 43.0, 14.0, 8.77,\n",
       "        4.0, 112.0, 203.0, 76.0],\n",
       "       [577, '2=Fibrosis', 71, 'm', 37.0, nan, 130.0, 90.0, 15.0, 9.92,\n",
       "        4.7, 79.0, 77.0, 76.0],\n",
       "       [582, '2=Fibrosis', 49, 'f', 39.0, nan, 46.0, 39.0, 9.0, 10.21,\n",
       "        3.1, 89.0, 53.0, 79.0],\n",
       "       [583, '2=Fibrosis', 51, 'f', 37.0, nan, 164.0, 70.0, 9.0, 3.99,\n",
       "        4.2, 67.0, 43.0, 72.0],\n",
       "       [584, '2=Fibrosis', 56, 'f', 39.0, nan, 42.0, 34.0, 10.0, 7.75,\n",
       "        5.0, 80.0, 84.0, 78.0],\n",
       "       [585, '2=Fibrosis', 75, 'f', 36.0, nan, 114.0, 125.0, 14.0, 6.65,\n",
       "        nan, 57.0, 177.0, 72.0],\n",
       "       [586, '3=Cirrhosis', 38, 'm', 44.0, nan, 94.0, 60.0, 12.0, 4.37,\n",
       "        3.2, 61.0, 99.0, 77.0],\n",
       "       [591, '3=Cirrhosis', 46, 'm', 20.0, nan, 62.0, 113.0, 254.0, 1.48,\n",
       "        nan, 114.0, 138.0, nan],\n",
       "       [593, '3=Cirrhosis', 47, 'm', 42.0, nan, 159.0, 102.0, 11.0, 6.29,\n",
       "        5.5, 58.0, 201.0, 79.0],\n",
       "       [604, '3=Cirrhosis', 65, 'm', nan, nan, 40.0, 54.0, 13.0, 7.5,\n",
       "        nan, 70.0, 107.0, 79.0],\n",
       "       [614, '3=Cirrhosis', 46, 'f', 33.0, nan, 39.0, 62.0, 20.0, 3.56,\n",
       "        4.2, 52.0, 50.0, 71.0],\n",
       "       [615, '3=Cirrhosis', 59, 'f', 36.0, nan, 100.0, 80.0, 12.0, 9.07,\n",
       "        5.3, 67.0, 34.0, 68.0]], dtype=object)"
      ]
     },
     "execution_count": 5,
     "metadata": {},
     "output_type": "execute_result"
    }
   ],
   "source": [
    "null_corpus=corpus[corpus.isnull().any(axis=1)].values\n",
    "null_corpus"
   ]
  },
  {
   "cell_type": "code",
   "execution_count": 6,
   "metadata": {
    "scrolled": true
   },
   "outputs": [
    {
     "data": {
      "text/plain": [
       "array([[1, '0=Blood Donor', 32, ..., 106.0, 12.1, 69.0],\n",
       "       [2, '0=Blood Donor', 32, ..., 74.0, 15.6, 76.5],\n",
       "       [3, '0=Blood Donor', 32, ..., 86.0, 33.2, 79.3],\n",
       "       ...,\n",
       "       [611, '3=Cirrhosis', 62, ..., 55.7, 650.9, 68.5],\n",
       "       [612, '3=Cirrhosis', 64, ..., 63.0, 35.9, 71.3],\n",
       "       [613, '3=Cirrhosis', 64, ..., 66.7, 64.2, 82.0]], dtype=object)"
      ]
     },
     "execution_count": 6,
     "metadata": {},
     "output_type": "execute_result"
    }
   ],
   "source": [
    "delete_corpus=corpus.dropna().values\n",
    "delete_corpus"
   ]
  },
  {
   "cell_type": "code",
   "execution_count": 7,
   "metadata": {
    "scrolled": true
   },
   "outputs": [
    {
     "name": "stdout",
     "output_type": "stream",
     "text": [
      "      ALB    ALP    ALT    AST   BIL    CHE  CHOL   CREA    GGT  PROT\n",
      "0    38.5   52.5    7.7   22.1   7.5   6.93  3.23  106.0   12.1  69.0\n",
      "1    38.5   70.3   18.0   24.7   3.9  11.17  4.80   74.0   15.6  76.5\n",
      "2    46.9   74.7   36.2   52.6   6.1   8.84  5.20   86.0   33.2  79.3\n",
      "3    43.2   52.0   30.6   22.6  18.9   7.33  4.74   80.0   33.8  75.7\n",
      "4    39.2   74.1   32.6   24.8   9.6   9.15  4.32   76.0   29.9  68.7\n",
      "..    ...    ...    ...    ...   ...    ...   ...    ...    ...   ...\n",
      "610  32.0  416.6    5.9  110.3  50.0   5.57  6.30   55.7  650.9  68.5\n",
      "611  24.0  102.8    2.9   44.4  20.0   1.54  3.02   63.0   35.9  71.3\n",
      "612  29.0   87.3    3.5   99.0  48.0   1.66  3.63   66.7   64.2  82.0\n",
      "613  33.0    NaN   39.0   62.0  20.0   3.56  4.20   52.0   50.0  71.0\n",
      "614  36.0    NaN  100.0   80.0  12.0   9.07  5.30   67.0   34.0  68.0\n",
      "\n",
      "[615 rows x 10 columns]\n"
     ]
    }
   ],
   "source": [
    "exclude_data_corpus=corpus.iloc[:,4:]\n",
    "print(exclude_data_corpus)"
   ]
  },
  {
   "cell_type": "code",
   "execution_count": 8,
   "metadata": {
    "scrolled": true
   },
   "outputs": [
    {
     "name": "stdout",
     "output_type": "stream",
     "text": [
      "      ALB    ALP   ALT    AST   BIL    CHE  CHOL   CREA    GGT  PROT\n",
      "0    38.5   52.5   7.7   22.1   7.5   6.93  3.23  106.0   12.1  69.0\n",
      "1    38.5   70.3  18.0   24.7   3.9  11.17  4.80   74.0   15.6  76.5\n",
      "2    46.9   74.7  36.2   52.6   6.1   8.84  5.20   86.0   33.2  79.3\n",
      "3    43.2   52.0  30.6   22.6  18.9   7.33  4.74   80.0   33.8  75.7\n",
      "4    39.2   74.1  32.6   24.8   9.6   9.15  4.32   76.0   29.9  68.7\n",
      "..    ...    ...   ...    ...   ...    ...   ...    ...    ...   ...\n",
      "608  34.0   46.4  15.0  150.0   8.0   6.26  3.98   56.0   49.7  80.6\n",
      "609  39.0   51.3  19.6  285.8  40.0   5.77  4.51  136.1  101.1  70.5\n",
      "610  32.0  416.6   5.9  110.3  50.0   5.57  6.30   55.7  650.9  68.5\n",
      "611  24.0  102.8   2.9   44.4  20.0   1.54  3.02   63.0   35.9  71.3\n",
      "612  29.0   87.3   3.5   99.0  48.0   1.66  3.63   66.7   64.2  82.0\n",
      "\n",
      "[589 rows x 10 columns]\n"
     ]
    },
    {
     "data": {
      "text/html": [
       "<div>\n",
       "<style scoped>\n",
       "    .dataframe tbody tr th:only-of-type {\n",
       "        vertical-align: middle;\n",
       "    }\n",
       "\n",
       "    .dataframe tbody tr th {\n",
       "        vertical-align: top;\n",
       "    }\n",
       "\n",
       "    .dataframe thead th {\n",
       "        text-align: right;\n",
       "    }\n",
       "</style>\n",
       "<table border=\"1\" class=\"dataframe\">\n",
       "  <thead>\n",
       "    <tr style=\"text-align: right;\">\n",
       "      <th></th>\n",
       "      <th>ALP</th>\n",
       "      <th>ALT</th>\n",
       "      <th>AST</th>\n",
       "      <th>BIL</th>\n",
       "      <th>CHE</th>\n",
       "      <th>CHOL</th>\n",
       "      <th>CREA</th>\n",
       "      <th>GGT</th>\n",
       "      <th>PROT</th>\n",
       "    </tr>\n",
       "  </thead>\n",
       "  <tbody>\n",
       "    <tr>\n",
       "      <th>0</th>\n",
       "      <td>52.5</td>\n",
       "      <td>7.7</td>\n",
       "      <td>22.1</td>\n",
       "      <td>7.5</td>\n",
       "      <td>6.93</td>\n",
       "      <td>3.23</td>\n",
       "      <td>106.0</td>\n",
       "      <td>12.1</td>\n",
       "      <td>69.0</td>\n",
       "    </tr>\n",
       "    <tr>\n",
       "      <th>1</th>\n",
       "      <td>70.3</td>\n",
       "      <td>18.0</td>\n",
       "      <td>24.7</td>\n",
       "      <td>3.9</td>\n",
       "      <td>11.17</td>\n",
       "      <td>4.80</td>\n",
       "      <td>74.0</td>\n",
       "      <td>15.6</td>\n",
       "      <td>76.5</td>\n",
       "    </tr>\n",
       "    <tr>\n",
       "      <th>2</th>\n",
       "      <td>74.7</td>\n",
       "      <td>36.2</td>\n",
       "      <td>52.6</td>\n",
       "      <td>6.1</td>\n",
       "      <td>8.84</td>\n",
       "      <td>5.20</td>\n",
       "      <td>86.0</td>\n",
       "      <td>33.2</td>\n",
       "      <td>79.3</td>\n",
       "    </tr>\n",
       "    <tr>\n",
       "      <th>3</th>\n",
       "      <td>52.0</td>\n",
       "      <td>30.6</td>\n",
       "      <td>22.6</td>\n",
       "      <td>18.9</td>\n",
       "      <td>7.33</td>\n",
       "      <td>4.74</td>\n",
       "      <td>80.0</td>\n",
       "      <td>33.8</td>\n",
       "      <td>75.7</td>\n",
       "    </tr>\n",
       "    <tr>\n",
       "      <th>4</th>\n",
       "      <td>74.1</td>\n",
       "      <td>32.6</td>\n",
       "      <td>24.8</td>\n",
       "      <td>9.6</td>\n",
       "      <td>9.15</td>\n",
       "      <td>4.32</td>\n",
       "      <td>76.0</td>\n",
       "      <td>29.9</td>\n",
       "      <td>68.7</td>\n",
       "    </tr>\n",
       "    <tr>\n",
       "      <th>...</th>\n",
       "      <td>...</td>\n",
       "      <td>...</td>\n",
       "      <td>...</td>\n",
       "      <td>...</td>\n",
       "      <td>...</td>\n",
       "      <td>...</td>\n",
       "      <td>...</td>\n",
       "      <td>...</td>\n",
       "      <td>...</td>\n",
       "    </tr>\n",
       "    <tr>\n",
       "      <th>608</th>\n",
       "      <td>46.4</td>\n",
       "      <td>15.0</td>\n",
       "      <td>150.0</td>\n",
       "      <td>8.0</td>\n",
       "      <td>6.26</td>\n",
       "      <td>3.98</td>\n",
       "      <td>56.0</td>\n",
       "      <td>49.7</td>\n",
       "      <td>80.6</td>\n",
       "    </tr>\n",
       "    <tr>\n",
       "      <th>609</th>\n",
       "      <td>51.3</td>\n",
       "      <td>19.6</td>\n",
       "      <td>285.8</td>\n",
       "      <td>40.0</td>\n",
       "      <td>5.77</td>\n",
       "      <td>4.51</td>\n",
       "      <td>136.1</td>\n",
       "      <td>101.1</td>\n",
       "      <td>70.5</td>\n",
       "    </tr>\n",
       "    <tr>\n",
       "      <th>610</th>\n",
       "      <td>416.6</td>\n",
       "      <td>5.9</td>\n",
       "      <td>110.3</td>\n",
       "      <td>50.0</td>\n",
       "      <td>5.57</td>\n",
       "      <td>6.30</td>\n",
       "      <td>55.7</td>\n",
       "      <td>650.9</td>\n",
       "      <td>68.5</td>\n",
       "    </tr>\n",
       "    <tr>\n",
       "      <th>611</th>\n",
       "      <td>102.8</td>\n",
       "      <td>2.9</td>\n",
       "      <td>44.4</td>\n",
       "      <td>20.0</td>\n",
       "      <td>1.54</td>\n",
       "      <td>3.02</td>\n",
       "      <td>63.0</td>\n",
       "      <td>35.9</td>\n",
       "      <td>71.3</td>\n",
       "    </tr>\n",
       "    <tr>\n",
       "      <th>612</th>\n",
       "      <td>87.3</td>\n",
       "      <td>3.5</td>\n",
       "      <td>99.0</td>\n",
       "      <td>48.0</td>\n",
       "      <td>1.66</td>\n",
       "      <td>3.63</td>\n",
       "      <td>66.7</td>\n",
       "      <td>64.2</td>\n",
       "      <td>82.0</td>\n",
       "    </tr>\n",
       "  </tbody>\n",
       "</table>\n",
       "<p>589 rows × 9 columns</p>\n",
       "</div>"
      ],
      "text/plain": [
       "       ALP   ALT    AST   BIL    CHE  CHOL   CREA    GGT  PROT\n",
       "0     52.5   7.7   22.1   7.5   6.93  3.23  106.0   12.1  69.0\n",
       "1     70.3  18.0   24.7   3.9  11.17  4.80   74.0   15.6  76.5\n",
       "2     74.7  36.2   52.6   6.1   8.84  5.20   86.0   33.2  79.3\n",
       "3     52.0  30.6   22.6  18.9   7.33  4.74   80.0   33.8  75.7\n",
       "4     74.1  32.6   24.8   9.6   9.15  4.32   76.0   29.9  68.7\n",
       "..     ...   ...    ...   ...    ...   ...    ...    ...   ...\n",
       "608   46.4  15.0  150.0   8.0   6.26  3.98   56.0   49.7  80.6\n",
       "609   51.3  19.6  285.8  40.0   5.77  4.51  136.1  101.1  70.5\n",
       "610  416.6   5.9  110.3  50.0   5.57  6.30   55.7  650.9  68.5\n",
       "611  102.8   2.9   44.4  20.0   1.54  3.02   63.0   35.9  71.3\n",
       "612   87.3   3.5   99.0  48.0   1.66  3.63   66.7   64.2  82.0\n",
       "\n",
       "[589 rows x 9 columns]"
      ]
     },
     "execution_count": 8,
     "metadata": {},
     "output_type": "execute_result"
    }
   ],
   "source": [
    "exclude_data_dropna_corpus=corpus.iloc[:,4:].dropna()\n",
    "print(exclude_data_dropna_corpus)\n",
    "exclude_data_dropna_corpus.drop('ALB',axis=1)\n"
   ]
  },
  {
   "cell_type": "code",
   "execution_count": 9,
   "metadata": {
    "scrolled": true
   },
   "outputs": [
    {
     "name": "stdout",
     "output_type": "stream",
     "text": [
      "    ALB   ALP   ALT   AST   BIL    CHE  CHOL   CREA   GGT  PROT\n",
      "0  38.5  52.5   7.7  22.1   7.5   6.93  3.23  106.0  12.1  69.0\n",
      "1  38.5  70.3  18.0  24.7   3.9  11.17  4.80   74.0  15.6  76.5\n",
      "2  46.9  74.7  36.2  52.6   6.1   8.84  5.20   86.0  33.2  79.3\n",
      "3  43.2  52.0  30.6  22.6  18.9   7.33  4.74   80.0  33.8  75.7\n",
      "4  39.2  74.1  32.6  24.8   9.6   9.15  4.32   76.0  29.9  68.7\n"
     ]
    }
   ],
   "source": [
    "exclude_data_dropna_corpus=corpus.iloc[:,4:].dropna().head()\n",
    "print(exclude_data_dropna_corpus)"
   ]
  },
  {
   "cell_type": "code",
   "execution_count": 10,
   "metadata": {
    "scrolled": true
   },
   "outputs": [
    {
     "data": {
      "text/plain": [
       "Index(['ALB', 'ALP', 'ALT', 'AST', 'BIL', 'CHE', 'CHOL', 'CREA', 'GGT',\n",
       "       'PROT'],\n",
       "      dtype='object')"
      ]
     },
     "execution_count": 10,
     "metadata": {},
     "output_type": "execute_result"
    }
   ],
   "source": [
    "exclude_data_dropna_corpus.columns"
   ]
  },
  {
   "cell_type": "code",
   "execution_count": 11,
   "metadata": {
    "scrolled": true
   },
   "outputs": [
    {
     "data": {
      "text/plain": [
       "Index(['Unnamed: 0', 'Category', 'Age', 'Sex', 'ALB', 'ALP', 'ALT', 'AST',\n",
       "       'BIL', 'CHE', 'CHOL', 'CREA', 'GGT', 'PROT'],\n",
       "      dtype='object')"
      ]
     },
     "execution_count": 11,
     "metadata": {},
     "output_type": "execute_result"
    }
   ],
   "source": [
    "corpus.columns"
   ]
  },
  {
   "cell_type": "code",
   "execution_count": 12,
   "metadata": {
    "scrolled": true
   },
   "outputs": [
    {
     "data": {
      "text/plain": [
       "{'0=Blood Donor',\n",
       " '0s=suspect Blood Donor',\n",
       " '1=Hepatitis',\n",
       " '2=Fibrosis',\n",
       " '3=Cirrhosis'}"
      ]
     },
     "execution_count": 12,
     "metadata": {},
     "output_type": "execute_result"
    }
   ],
   "source": [
    "category=corpus['Category']\n",
    "set(category)"
   ]
  },
  {
   "cell_type": "code",
   "execution_count": 13,
   "metadata": {},
   "outputs": [
    {
     "data": {
      "text/html": [
       "<div>\n",
       "<style scoped>\n",
       "    .dataframe tbody tr th:only-of-type {\n",
       "        vertical-align: middle;\n",
       "    }\n",
       "\n",
       "    .dataframe tbody tr th {\n",
       "        vertical-align: top;\n",
       "    }\n",
       "\n",
       "    .dataframe thead th {\n",
       "        text-align: right;\n",
       "    }\n",
       "</style>\n",
       "<table border=\"1\" class=\"dataframe\">\n",
       "  <thead>\n",
       "    <tr style=\"text-align: right;\">\n",
       "      <th></th>\n",
       "      <th>Sex</th>\n",
       "      <th>ALB</th>\n",
       "      <th>ALP</th>\n",
       "      <th>ALT</th>\n",
       "      <th>AST</th>\n",
       "      <th>BIL</th>\n",
       "      <th>CHE</th>\n",
       "      <th>CHOL</th>\n",
       "      <th>CREA</th>\n",
       "      <th>GGT</th>\n",
       "      <th>PROT</th>\n",
       "    </tr>\n",
       "  </thead>\n",
       "  <tbody>\n",
       "    <tr>\n",
       "      <th>0</th>\n",
       "      <td>m</td>\n",
       "      <td>38.5</td>\n",
       "      <td>52.5</td>\n",
       "      <td>7.7</td>\n",
       "      <td>22.1</td>\n",
       "      <td>7.5</td>\n",
       "      <td>6.93</td>\n",
       "      <td>3.23</td>\n",
       "      <td>106.0</td>\n",
       "      <td>12.1</td>\n",
       "      <td>69.0</td>\n",
       "    </tr>\n",
       "    <tr>\n",
       "      <th>1</th>\n",
       "      <td>m</td>\n",
       "      <td>38.5</td>\n",
       "      <td>70.3</td>\n",
       "      <td>18.0</td>\n",
       "      <td>24.7</td>\n",
       "      <td>3.9</td>\n",
       "      <td>11.17</td>\n",
       "      <td>4.80</td>\n",
       "      <td>74.0</td>\n",
       "      <td>15.6</td>\n",
       "      <td>76.5</td>\n",
       "    </tr>\n",
       "    <tr>\n",
       "      <th>2</th>\n",
       "      <td>m</td>\n",
       "      <td>46.9</td>\n",
       "      <td>74.7</td>\n",
       "      <td>36.2</td>\n",
       "      <td>52.6</td>\n",
       "      <td>6.1</td>\n",
       "      <td>8.84</td>\n",
       "      <td>5.20</td>\n",
       "      <td>86.0</td>\n",
       "      <td>33.2</td>\n",
       "      <td>79.3</td>\n",
       "    </tr>\n",
       "    <tr>\n",
       "      <th>3</th>\n",
       "      <td>m</td>\n",
       "      <td>43.2</td>\n",
       "      <td>52.0</td>\n",
       "      <td>30.6</td>\n",
       "      <td>22.6</td>\n",
       "      <td>18.9</td>\n",
       "      <td>7.33</td>\n",
       "      <td>4.74</td>\n",
       "      <td>80.0</td>\n",
       "      <td>33.8</td>\n",
       "      <td>75.7</td>\n",
       "    </tr>\n",
       "    <tr>\n",
       "      <th>4</th>\n",
       "      <td>m</td>\n",
       "      <td>39.2</td>\n",
       "      <td>74.1</td>\n",
       "      <td>32.6</td>\n",
       "      <td>24.8</td>\n",
       "      <td>9.6</td>\n",
       "      <td>9.15</td>\n",
       "      <td>4.32</td>\n",
       "      <td>76.0</td>\n",
       "      <td>29.9</td>\n",
       "      <td>68.7</td>\n",
       "    </tr>\n",
       "  </tbody>\n",
       "</table>\n",
       "</div>"
      ],
      "text/plain": [
       "  Sex   ALB   ALP   ALT   AST   BIL    CHE  CHOL   CREA   GGT  PROT\n",
       "0   m  38.5  52.5   7.7  22.1   7.5   6.93  3.23  106.0  12.1  69.0\n",
       "1   m  38.5  70.3  18.0  24.7   3.9  11.17  4.80   74.0  15.6  76.5\n",
       "2   m  46.9  74.7  36.2  52.6   6.1   8.84  5.20   86.0  33.2  79.3\n",
       "3   m  43.2  52.0  30.6  22.6  18.9   7.33  4.74   80.0  33.8  75.7\n",
       "4   m  39.2  74.1  32.6  24.8   9.6   9.15  4.32   76.0  29.9  68.7"
      ]
     },
     "execution_count": 13,
     "metadata": {},
     "output_type": "execute_result"
    }
   ],
   "source": [
    "final_corpus=corpus[[ 'Sex', 'ALB', 'ALP', 'ALT', 'AST',\n",
    "       'BIL', 'CHE', 'CHOL', 'CREA', 'GGT', 'PROT']]\n",
    "final_corpus.head()"
   ]
  },
  {
   "cell_type": "code",
   "execution_count": 14,
   "metadata": {},
   "outputs": [],
   "source": [
    " x_data=corpus[[ 'ALB', 'ALP', 'ALT', 'AST',\n",
    "       'BIL', 'CHE', 'CHOL', 'CREA', 'GGT', 'PROT']]\n"
   ]
  },
  {
   "cell_type": "code",
   "execution_count": 15,
   "metadata": {
    "scrolled": true
   },
   "outputs": [
    {
     "data": {
      "text/html": [
       "<div>\n",
       "<style scoped>\n",
       "    .dataframe tbody tr th:only-of-type {\n",
       "        vertical-align: middle;\n",
       "    }\n",
       "\n",
       "    .dataframe tbody tr th {\n",
       "        vertical-align: top;\n",
       "    }\n",
       "\n",
       "    .dataframe thead th {\n",
       "        text-align: right;\n",
       "    }\n",
       "</style>\n",
       "<table border=\"1\" class=\"dataframe\">\n",
       "  <thead>\n",
       "    <tr style=\"text-align: right;\">\n",
       "      <th></th>\n",
       "      <th>ALB</th>\n",
       "      <th>ALP</th>\n",
       "      <th>ALT</th>\n",
       "      <th>AST</th>\n",
       "      <th>BIL</th>\n",
       "      <th>CHE</th>\n",
       "      <th>CHOL</th>\n",
       "      <th>CREA</th>\n",
       "      <th>GGT</th>\n",
       "      <th>PROT</th>\n",
       "    </tr>\n",
       "  </thead>\n",
       "  <tbody>\n",
       "    <tr>\n",
       "      <th>0</th>\n",
       "      <td>38.5</td>\n",
       "      <td>52.5</td>\n",
       "      <td>7.7</td>\n",
       "      <td>22.1</td>\n",
       "      <td>7.5</td>\n",
       "      <td>6.93</td>\n",
       "      <td>3.23</td>\n",
       "      <td>106.0</td>\n",
       "      <td>12.1</td>\n",
       "      <td>69.0</td>\n",
       "    </tr>\n",
       "    <tr>\n",
       "      <th>1</th>\n",
       "      <td>38.5</td>\n",
       "      <td>70.3</td>\n",
       "      <td>18.0</td>\n",
       "      <td>24.7</td>\n",
       "      <td>3.9</td>\n",
       "      <td>11.17</td>\n",
       "      <td>4.80</td>\n",
       "      <td>74.0</td>\n",
       "      <td>15.6</td>\n",
       "      <td>76.5</td>\n",
       "    </tr>\n",
       "    <tr>\n",
       "      <th>2</th>\n",
       "      <td>46.9</td>\n",
       "      <td>74.7</td>\n",
       "      <td>36.2</td>\n",
       "      <td>52.6</td>\n",
       "      <td>6.1</td>\n",
       "      <td>8.84</td>\n",
       "      <td>5.20</td>\n",
       "      <td>86.0</td>\n",
       "      <td>33.2</td>\n",
       "      <td>79.3</td>\n",
       "    </tr>\n",
       "    <tr>\n",
       "      <th>3</th>\n",
       "      <td>43.2</td>\n",
       "      <td>52.0</td>\n",
       "      <td>30.6</td>\n",
       "      <td>22.6</td>\n",
       "      <td>18.9</td>\n",
       "      <td>7.33</td>\n",
       "      <td>4.74</td>\n",
       "      <td>80.0</td>\n",
       "      <td>33.8</td>\n",
       "      <td>75.7</td>\n",
       "    </tr>\n",
       "    <tr>\n",
       "      <th>4</th>\n",
       "      <td>39.2</td>\n",
       "      <td>74.1</td>\n",
       "      <td>32.6</td>\n",
       "      <td>24.8</td>\n",
       "      <td>9.6</td>\n",
       "      <td>9.15</td>\n",
       "      <td>4.32</td>\n",
       "      <td>76.0</td>\n",
       "      <td>29.9</td>\n",
       "      <td>68.7</td>\n",
       "    </tr>\n",
       "  </tbody>\n",
       "</table>\n",
       "</div>"
      ],
      "text/plain": [
       "    ALB   ALP   ALT   AST   BIL    CHE  CHOL   CREA   GGT  PROT\n",
       "0  38.5  52.5   7.7  22.1   7.5   6.93  3.23  106.0  12.1  69.0\n",
       "1  38.5  70.3  18.0  24.7   3.9  11.17  4.80   74.0  15.6  76.5\n",
       "2  46.9  74.7  36.2  52.6   6.1   8.84  5.20   86.0  33.2  79.3\n",
       "3  43.2  52.0  30.6  22.6  18.9   7.33  4.74   80.0  33.8  75.7\n",
       "4  39.2  74.1  32.6  24.8   9.6   9.15  4.32   76.0  29.9  68.7"
      ]
     },
     "execution_count": 15,
     "metadata": {},
     "output_type": "execute_result"
    }
   ],
   "source": [
    "x_data.head()"
   ]
  },
  {
   "cell_type": "code",
   "execution_count": 21,
   "metadata": {
    "scrolled": true
   },
   "outputs": [
    {
     "name": "stdout",
     "output_type": "stream",
     "text": [
      "Index(['ALB', 'ALP', 'ALT', 'AST', 'BIL', 'CHE', 'CHOL', 'CREA', 'GGT',\n",
      "       'PROT'],\n",
      "      dtype='object')\n"
     ]
    },
    {
     "data": {
      "text/html": [
       "<div>\n",
       "<style scoped>\n",
       "    .dataframe tbody tr th:only-of-type {\n",
       "        vertical-align: middle;\n",
       "    }\n",
       "\n",
       "    .dataframe tbody tr th {\n",
       "        vertical-align: top;\n",
       "    }\n",
       "\n",
       "    .dataframe thead th {\n",
       "        text-align: right;\n",
       "    }\n",
       "</style>\n",
       "<table border=\"1\" class=\"dataframe\">\n",
       "  <thead>\n",
       "    <tr style=\"text-align: right;\">\n",
       "      <th></th>\n",
       "      <th>ALB</th>\n",
       "      <th>ALP</th>\n",
       "      <th>ALT</th>\n",
       "      <th>AST</th>\n",
       "      <th>BIL</th>\n",
       "      <th>CHE</th>\n",
       "      <th>CHOL</th>\n",
       "      <th>CREA</th>\n",
       "      <th>GGT</th>\n",
       "      <th>PROT</th>\n",
       "    </tr>\n",
       "  </thead>\n",
       "  <tbody>\n",
       "    <tr>\n",
       "      <th>0</th>\n",
       "      <td>38.5</td>\n",
       "      <td>52.5</td>\n",
       "      <td>7.7</td>\n",
       "      <td>22.1</td>\n",
       "      <td>7.5</td>\n",
       "      <td>6.93</td>\n",
       "      <td>3.23</td>\n",
       "      <td>106.0</td>\n",
       "      <td>12.1</td>\n",
       "      <td>69.0</td>\n",
       "    </tr>\n",
       "    <tr>\n",
       "      <th>1</th>\n",
       "      <td>38.5</td>\n",
       "      <td>70.3</td>\n",
       "      <td>18.0</td>\n",
       "      <td>24.7</td>\n",
       "      <td>3.9</td>\n",
       "      <td>11.17</td>\n",
       "      <td>4.80</td>\n",
       "      <td>74.0</td>\n",
       "      <td>15.6</td>\n",
       "      <td>76.5</td>\n",
       "    </tr>\n",
       "    <tr>\n",
       "      <th>2</th>\n",
       "      <td>46.9</td>\n",
       "      <td>74.7</td>\n",
       "      <td>36.2</td>\n",
       "      <td>52.6</td>\n",
       "      <td>6.1</td>\n",
       "      <td>8.84</td>\n",
       "      <td>5.20</td>\n",
       "      <td>86.0</td>\n",
       "      <td>33.2</td>\n",
       "      <td>79.3</td>\n",
       "    </tr>\n",
       "    <tr>\n",
       "      <th>3</th>\n",
       "      <td>43.2</td>\n",
       "      <td>52.0</td>\n",
       "      <td>30.6</td>\n",
       "      <td>22.6</td>\n",
       "      <td>18.9</td>\n",
       "      <td>7.33</td>\n",
       "      <td>4.74</td>\n",
       "      <td>80.0</td>\n",
       "      <td>33.8</td>\n",
       "      <td>75.7</td>\n",
       "    </tr>\n",
       "    <tr>\n",
       "      <th>4</th>\n",
       "      <td>39.2</td>\n",
       "      <td>74.1</td>\n",
       "      <td>32.6</td>\n",
       "      <td>24.8</td>\n",
       "      <td>9.6</td>\n",
       "      <td>9.15</td>\n",
       "      <td>4.32</td>\n",
       "      <td>76.0</td>\n",
       "      <td>29.9</td>\n",
       "      <td>68.7</td>\n",
       "    </tr>\n",
       "  </tbody>\n",
       "</table>\n",
       "</div>"
      ],
      "text/plain": [
       "    ALB   ALP   ALT   AST   BIL    CHE  CHOL   CREA   GGT  PROT\n",
       "0  38.5  52.5   7.7  22.1   7.5   6.93  3.23  106.0  12.1  69.0\n",
       "1  38.5  70.3  18.0  24.7   3.9  11.17  4.80   74.0  15.6  76.5\n",
       "2  46.9  74.7  36.2  52.6   6.1   8.84  5.20   86.0  33.2  79.3\n",
       "3  43.2  52.0  30.6  22.6  18.9   7.33  4.74   80.0  33.8  75.7\n",
       "4  39.2  74.1  32.6  24.8   9.6   9.15  4.32   76.0  29.9  68.7"
      ]
     },
     "execution_count": 21,
     "metadata": {},
     "output_type": "execute_result"
    }
   ],
   "source": [
    "from sklearn.preprocessing import MinMaxScaler\n",
    "print(x_data.columns)\n",
    "x_data.head()"
   ]
  },
  {
   "cell_type": "code",
   "execution_count": 20,
   "metadata": {
    "scrolled": true
   },
   "outputs": [
    {
     "data": {
      "text/plain": [
       "array([[0.35066865, 0.1016531 , 0.02096178, ..., 0.09149473, 0.01175743,\n",
       "        0.53539823],\n",
       "       [0.35066865, 0.14557118, 0.0527127 , ..., 0.0616189 , 0.01717203,\n",
       "        0.70132743],\n",
       "       [0.47548291, 0.15642734, 0.10881628, ..., 0.07282233, 0.04439975,\n",
       "        0.76327434],\n",
       "       ...,\n",
       "       [0.20950966, 0.18751542, 0.0080148 , ..., 0.05480347, 0.09235767,\n",
       "        0.82300885],\n",
       "       [0.26894502,        nan, 0.1174476 , ..., 0.04107926, 0.07038985,\n",
       "        0.57964602],\n",
       "       [0.31352155,        nan, 0.30548705, ..., 0.05508356, 0.04563738,\n",
       "        0.51327434]])"
      ]
     },
     "execution_count": 20,
     "metadata": {},
     "output_type": "execute_result"
    }
   ],
   "source": [
    "scalar=MinMaxScaler()\n",
    "scalar.fit(x_data)\n",
    "new_data=scalar.transform(x_data)\n",
    "new_data"
   ]
  },
  {
   "cell_type": "code",
   "execution_count": 23,
   "metadata": {},
   "outputs": [],
   "source": [
    "\n",
    "Frame=pd.DataFrame(new_data, columns = ['ALB', 'ALP', 'ALT', 'AST', 'BIL', 'CHE', 'CHOL', 'CREA', 'GGT','PROT'])\n",
    "Frame.to_csv('D:\\\\Python_test\\\\file.csv')"
   ]
  },
  {
   "cell_type": "code",
   "execution_count": 27,
   "metadata": {},
   "outputs": [
    {
     "data": {
      "text/plain": [
       "Index(['Unnamed: 0', 'ALB', 'ALP', 'ALT', 'AST', 'BIL', 'CHE', 'CHOL', 'CREA',\n",
       "       'GGT', 'PROT'],\n",
       "      dtype='object')"
      ]
     },
     "execution_count": 27,
     "metadata": {},
     "output_type": "execute_result"
    }
   ],
   "source": [
    "hhh=pd.read_csv('D:\\\\Python_test\\\\file.csv')\n",
    "hhh.columns"
   ]
  }
 ],
 "metadata": {
  "kernelspec": {
   "display_name": "Python 3",
   "language": "python",
   "name": "python3"
  },
  "language_info": {
   "codemirror_mode": {
    "name": "ipython",
    "version": 3
   },
   "file_extension": ".py",
   "mimetype": "text/x-python",
   "name": "python",
   "nbconvert_exporter": "python",
   "pygments_lexer": "ipython3",
   "version": "3.8.3"
  }
 },
 "nbformat": 4,
 "nbformat_minor": 4
}
