{
 "cells": [
  {
   "cell_type": "markdown",
   "metadata": {},
   "source": [
    "# Detecting the nice value by median"
   ]
  },
  {
   "cell_type": "code",
   "execution_count": 3,
   "metadata": {
    "scrolled": true
   },
   "outputs": [
    {
     "name": "stdout",
     "output_type": "stream",
     "text": [
      "   ID       City  Items   Price Payment   Tax Transaction\n",
      "0   1    Colombo      3   500.0       ?  0.25         yes\n",
      "1   2  Singapore      2  1500.0       0  0.31         yes\n",
      "2   3  Singapore      4  2000.0       1  1.20         yes\n",
      "3   4      Tokyo   4300  1300.0       0  0.80          no\n",
      "4   5  Melbourne      6     1.3       0  0.50          no\n",
      "5   6  Singapore      4  1800.0       1  0.30          no\n",
      "6   7          ?      5   700.0       1  0.40         yes\n"
     ]
    }
   ],
   "source": [
    "import pandas as pd\n",
    "filedata=pd.read_csv('D:\\\\Python_test\\\\dataset.csv')\n",
    "\n",
    "print(filedata)"
   ]
  },
  {
   "cell_type": "code",
   "execution_count": 8,
   "metadata": {},
   "outputs": [
    {
     "name": "stdout",
     "output_type": "stream",
     "text": [
      "[   3    2    4 4300    6    4    5]\n"
     ]
    }
   ],
   "source": [
    "item=filedata.iloc[:,2].values\n",
    "print(item)"
   ]
  },
  {
   "cell_type": "code",
   "execution_count": 9,
   "metadata": {},
   "outputs": [
    {
     "name": "stdout",
     "output_type": "stream",
     "text": [
      "4.0\n"
     ]
    }
   ],
   "source": [
    "import numpy as np\n",
    "median=np.median(item)\n",
    "print(median)"
   ]
  },
  {
   "cell_type": "code",
   "execution_count": 17,
   "metadata": {
    "scrolled": true
   },
   "outputs": [
    {
     "name": "stdout",
     "output_type": "stream",
     "text": [
      "12.0\n"
     ]
    }
   ],
   "source": [
    "cutoff=median*3 # because k in between (1,4) i take 3\n",
    "print(cutoff)"
   ]
  },
  {
   "cell_type": "code",
   "execution_count": 18,
   "metadata": {},
   "outputs": [
    {
     "name": "stdout",
     "output_type": "stream",
     "text": [
      "-8.0 16.0\n"
     ]
    }
   ],
   "source": [
    "lower,upper=median-cutoff,median+cutoff\n",
    "print(lower,upper)"
   ]
  },
  {
   "cell_type": "code",
   "execution_count": 19,
   "metadata": {},
   "outputs": [
    {
     "name": "stdout",
     "output_type": "stream",
     "text": [
      "4300\n"
     ]
    }
   ],
   "source": [
    "for extractitem in item:\n",
    "    if extractitem <lower or extractitem >upper:\n",
    "        print(extractitem)"
   ]
  },
  {
   "cell_type": "code",
   "execution_count": 6,
   "metadata": {},
   "outputs": [
    {
     "name": "stdout",
     "output_type": "stream",
     "text": [
      "[3 2 4 5] [4300    6    4]\n"
     ]
    }
   ],
   "source": [
    "yes_item = filedata[filedata['Transaction']=='yes'].iloc[:,2].values\n",
    "no_item = filedata[filedata['Transaction']=='no'].iloc[:,2].values\n",
    "print(yes_item,no_item)"
   ]
  },
  {
   "cell_type": "code",
   "execution_count": null,
   "metadata": {},
   "outputs": [],
   "source": []
  },
  {
   "cell_type": "code",
   "execution_count": null,
   "metadata": {},
   "outputs": [],
   "source": []
  }
 ],
 "metadata": {
  "kernelspec": {
   "display_name": "Python 3",
   "language": "python",
   "name": "python3"
  },
  "language_info": {
   "codemirror_mode": {
    "name": "ipython",
    "version": 3
   },
   "file_extension": ".py",
   "mimetype": "text/x-python",
   "name": "python",
   "nbconvert_exporter": "python",
   "pygments_lexer": "ipython3",
   "version": "3.8.3"
  }
 },
 "nbformat": 4,
 "nbformat_minor": 4
}
