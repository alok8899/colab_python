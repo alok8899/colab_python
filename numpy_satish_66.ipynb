{
 "cells": [
  {
   "cell_type": "code",
   "execution_count": 44,
   "metadata": {},
   "outputs": [
    {
     "name": "stdout",
     "output_type": "stream",
     "text": [
      "the byte order of the data type is  >\n",
      "the size of datatype is  4\n",
      "the data type is  int32\n",
      "the calass of data type  <class 'numpy.dtype'>\n"
     ]
    }
   ],
   "source": [
    "#! python3\n",
    "# > big endian notation\n",
    "# < little endian notation\n",
    "\n",
    "import os\n",
    "os.system(\"cls\")\n",
    "\n",
    "import numpy as np\n",
    "ff=np.array([[1,4],[8,7],[88,7]])\n",
    "mydatatype=np.dtype('>i4')\n",
    "print(\"the byte order of the data type is \",mydatatype.byteorder)\n",
    "print(\"the size of datatype is \",mydatatype.itemsize)\n",
    "print(\"the data type is \",mydatatype.name)\n",
    "print(\"the calass of data type \",type(mydatatype))"
   ]
  },
  {
   "cell_type": "code",
   "execution_count": 2,
   "metadata": {
    "scrolled": true
   },
   "outputs": [
    {
     "name": "stdout",
     "output_type": "stream",
     "text": [
      "the data type of  <U40\n",
      "the data type of  ('<f8', (2,))\n",
      "the fast student is :  ('alok kumar behera', [9.26, 8.35])\n",
      "the second student is :  ('rakesh kumar ss', [8.36, 9.45])\n"
     ]
    }
   ],
   "source": [
    "#! python3\n",
    "\n",
    "import os\n",
    "os.system(\"cls\")\n",
    "\n",
    "import numpy as np\n",
    "\n",
    "mystudentdatatype=np.dtype([('student name',np.unicode_,40),('student grade',np.float64,(2))])\n",
    "\n",
    "print(\"the data type of \",mystudentdatatype['student name'])\n",
    "print(\"the data type of \",mystudentdatatype['student grade'])\n",
    "\n",
    "mydatatype=np.array([('alok kumar behera',(9.26,8.35)),('rakesh kumar ss',(8.36,9.45))],dtype=mystudentdatatype)\n",
    "\n",
    "print(\"the fast student is : \",mydatatype[0])\n",
    "print(\"the second student is : \",mydatatype[1])"
   ]
  },
  {
   "cell_type": "code",
   "execution_count": 4,
   "metadata": {
    "scrolled": true
   },
   "outputs": [
    {
     "name": "stdout",
     "output_type": "stream",
     "text": [
      "the data type of  <U40\n",
      "the data type of  ('<f8', (2,))\n",
      "the student is :  ['alok kumar behera' 'rakesh kumar ss']\n",
      "the student grade is :  [[9.26 8.35]\n",
      " [8.36 9.45]]\n"
     ]
    }
   ],
   "source": [
    "#! python3\n",
    "\n",
    "import os\n",
    "os.system(\"cls\")\n",
    "\n",
    "import numpy as np\n",
    "\n",
    "mystudentdatatype=np.dtype([('student name',np.unicode_,40),('student grade',np.float64,(2))])\n",
    "\n",
    "print(\"the data type of \",mystudentdatatype['student name'])\n",
    "print(\"the data type of \",mystudentdatatype['student grade'])\n",
    "\n",
    "mydatatype=np.array([('alok kumar behera',(9.26,8.35)),('rakesh kumar ss',(8.36,9.45))],dtype=mystudentdatatype)\n",
    "\n",
    "print(\"the student is : \",mydatatype['student name'])\n",
    "print(\"the student grade is : \",mydatatype['student grade'])"
   ]
  },
  {
   "cell_type": "code",
   "execution_count": 10,
   "metadata": {
    "scrolled": true
   },
   "outputs": [
    {
     "name": "stdout",
     "output_type": "stream",
     "text": [
      "the data type of  <U40\n",
      "the data type of  ('<f8', (2,))\n",
      "the student is :  ['alok kumar behera' 'rakesh kumar ss']\n",
      "the student grade is :  [[9.26 8.35]\n",
      " [8.36 9.45]]\n",
      "the data in 0 index  alok kumar behera\n",
      "the data in 0 index  [9.26 8.35]\n"
     ]
    }
   ],
   "source": [
    "#! python3\n",
    "\n",
    "import os\n",
    "os.system(\"cls\")\n",
    "\n",
    "import numpy as np\n",
    "\n",
    "mystudentdatatype=np.dtype([('student name',np.unicode_,40),('student grade',np.float64,(2))])\n",
    "\n",
    "print(\"the data type of \",mystudentdatatype['student name'])\n",
    "print(\"the data type of \",mystudentdatatype['student grade'])\n",
    "\n",
    "mydatatype=np.array([('alok kumar behera',(9.26,8.35)),('rakesh kumar ss',(8.36,9.45))],dtype=mystudentdatatype)\n",
    "\n",
    "print(\"the student is : \",mydatatype['student name'])\n",
    "print(\"the student grade is : \",mydatatype['student grade'])\n",
    "\n",
    "print(\"the data in 0 index \",mydatatype[0]['student name'])\n",
    "print(\"the data in 0 index \",mydatatype[0]['student grade'])"
   ]
  },
  {
   "cell_type": "code",
   "execution_count": 4,
   "metadata": {},
   "outputs": [
    {
     "data": {
      "text/plain": [
       "array([[0, 0, 0, 0],\n",
       "       [0, 0, 0, 0],\n",
       "       [0, 0, 0, 0]])"
      ]
     },
     "execution_count": 4,
     "metadata": {},
     "output_type": "execute_result"
    }
   ],
   "source": [
    "# it gives garbage value\n",
    "#! python3\n",
    "\n",
    "import os\n",
    "os.system(\"cls\")\n",
    "\n",
    "import numpy as np\n",
    "\n",
    "myarray=np.empty((3,4),dtype=int)\n",
    "myarray"
   ]
  },
  {
   "cell_type": "code",
   "execution_count": 6,
   "metadata": {},
   "outputs": [
    {
     "data": {
      "text/plain": [
       "array([[0, 0, 0, 0],\n",
       "       [0, 0, 0, 0],\n",
       "       [0, 0, 0, 0]])"
      ]
     },
     "execution_count": 6,
     "metadata": {},
     "output_type": "execute_result"
    }
   ],
   "source": [
    "#! python3\n",
    "\n",
    "import os\n",
    "os.system(\"cls\")\n",
    "\n",
    "import numpy as np\n",
    "\n",
    "myarray=np.zeros((3,4),dtype=int)\n",
    "myarray"
   ]
  },
  {
   "cell_type": "code",
   "execution_count": 7,
   "metadata": {},
   "outputs": [
    {
     "data": {
      "text/plain": [
       "array([[1, 1, 1, 1],\n",
       "       [1, 1, 1, 1],\n",
       "       [1, 1, 1, 1]])"
      ]
     },
     "execution_count": 7,
     "metadata": {},
     "output_type": "execute_result"
    }
   ],
   "source": [
    "#! python3\n",
    "\n",
    "import os\n",
    "os.system(\"cls\")\n",
    "\n",
    "import numpy as np\n",
    "\n",
    "myarray=np.ones((3,4),dtype=int)\n",
    "myarray"
   ]
  },
  {
   "cell_type": "code",
   "execution_count": null,
   "metadata": {},
   "outputs": [],
   "source": []
  }
 ],
 "metadata": {
  "kernelspec": {
   "display_name": "Python 3",
   "language": "python",
   "name": "python3"
  },
  "language_info": {
   "codemirror_mode": {
    "name": "ipython",
    "version": 3
   },
   "file_extension": ".py",
   "mimetype": "text/x-python",
   "name": "python",
   "nbconvert_exporter": "python",
   "pygments_lexer": "ipython3",
   "version": "3.8.3"
  }
 },
 "nbformat": 4,
 "nbformat_minor": 4
}
