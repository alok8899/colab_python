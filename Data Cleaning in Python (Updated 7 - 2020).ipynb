{
 "cells": [
  {
   "cell_type": "markdown",
   "metadata": {},
   "source": [
    "# Read data from csv and segrigate unwanted data"
   ]
  },
  {
   "cell_type": "code",
   "execution_count": 6,
   "metadata": {
    "scrolled": false
   },
   "outputs": [
    {
     "name": "stdout",
     "output_type": "stream",
     "text": [
      "[[1 'Colombo' 3 500.0 '?' 0.25 'yes']\n",
      " [2 'Singapore' 2 1500.0 '0' 0.31 'yes']\n",
      " [3 'Singapore' 4 2000.0 '1' 1.2 'yes']\n",
      " [4 'Tokyo' 4300 1300.0 '0' 0.8 'no']\n",
      " [5 'Melbourne' 6 1.3 '0' 0.5 'no']\n",
      " [6 'Singapore' 4 1800.0 '1' 0.3 'no']\n",
      " [7 '?' 5 700.0 '1' 0.4 'yes']]\n",
      "\n",
      "the row have symbol data\n",
      "\n",
      "[1 'Colombo' 3 500.0 '?' 0.25 'yes']\n",
      "[7 '?' 5 700.0 '1' 0.4 'yes']\n"
     ]
    }
   ],
   "source": [
    "import pandas as pd\n",
    "dataset=pd.read_csv('D:\\\\Python_test\\\\dataset.csv').values\n",
    "print(dataset,end=\"\\n\\n\")\n",
    "\n",
    "symbol=['?','*','%','nan']\n",
    "print(\"the row have symbol data\\n\")\n",
    "for row in dataset:\n",
    "    if set(symbol) & set(row):\n",
    "        print(row)\n"
   ]
  }
 ],
 "metadata": {
  "kernelspec": {
   "display_name": "Python 3",
   "language": "python",
   "name": "python3"
  },
  "language_info": {
   "codemirror_mode": {
    "name": "ipython",
    "version": 3
   },
   "file_extension": ".py",
   "mimetype": "text/x-python",
   "name": "python",
   "nbconvert_exporter": "python",
   "pygments_lexer": "ipython3",
   "version": "3.8.3"
  }
 },
 "nbformat": 4,
 "nbformat_minor": 4
}
