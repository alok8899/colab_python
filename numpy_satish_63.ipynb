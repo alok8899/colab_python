{
 "cells": [
  {
   "cell_type": "code",
   "execution_count": null,
   "metadata": {},
   "outputs": [],
   "source": [
    "# decorator"
   ]
  },
  {
   "cell_type": "code",
   "execution_count": 2,
   "metadata": {},
   "outputs": [
    {
     "name": "stdout",
     "output_type": "stream",
     "text": [
      "main module of the application begin here\n",
      "------------------------------------------\n",
      "calling to calling function\n",
      "this is the message from calling function\n",
      "this is the message from base function \n"
     ]
    }
   ],
   "source": [
    "#! python3\n",
    "import os\n",
    "os.system(\"cls\")\n",
    "\n",
    "def basefunction():           #4\n",
    "    print(\"this is the message from base function \")\n",
    "\n",
    "\n",
    "def callingfunction(callbase): #2\n",
    "    print(\"this is the message from calling function\")\n",
    "    return callbase()          #3\n",
    "\n",
    "print(\"main module of the application begin here\")\n",
    "print(\"------------------------------------------\")\n",
    "print(\"calling to calling function\")\n",
    "\n",
    "callingfunction(basefunction) #1"
   ]
  },
  {
   "cell_type": "code",
   "execution_count": 8,
   "metadata": {},
   "outputs": [
    {
     "name": "stdout",
     "output_type": "stream",
     "text": [
      "main module of application begins here \n",
      "calling to function normally\n",
      " the letter in capital\n",
      "creating decorator here \n",
      "calling to decorator \n",
      "THE LETTER IN CAPITAL\n"
     ]
    }
   ],
   "source": [
    "# DECORATOR\n",
    "#! python3\n",
    "\n",
    "import os\n",
    "os.system(\"cls\")\n",
    "\n",
    "def makeupper(instringfun):\n",
    "    def changeuc():\n",
    "        extrstring=instringfun()\n",
    "        return extrstring.upper()\n",
    "    return changeuc\n",
    "    \n",
    "\n",
    "def outmessage():\n",
    "    return \"the letter in capital\"\n",
    "\n",
    "print(\"main module of application begins here \")\n",
    "print(\"calling to function normally\\n\",outmessage())\n",
    "\n",
    "print(\"creating decorator here \")\n",
    "decoratorfunref=makeupper(outmessage)\n",
    "\n",
    "print(\"calling to decorator \")\n",
    "print(decoratorfunref())\n"
   ]
  },
  {
   "cell_type": "code",
   "execution_count": 17,
   "metadata": {},
   "outputs": [
    {
     "name": "stdout",
     "output_type": "stream",
     "text": [
      "main module of application begins here \n",
      "calling to decorator \n",
      "hghghg\n",
      "ggfg\n",
      "THE LETTER IN CAPITAL\n"
     ]
    }
   ],
   "source": [
    "# PYTHON DECORATOR\n",
    "#! python3\n",
    "\n",
    "import os\n",
    "os.system(\"cls\")\n",
    "\n",
    "def makeupper(instringfun):\n",
    "    def changeuc():\n",
    "        print(\"hghghg\")\n",
    "        extrstring=instringfun()\n",
    "        return extrstring.upper()\n",
    "    return changeuc\n",
    "    \n",
    "@makeupper\n",
    "def outmessage():\n",
    "    print(\"ggfg\")\n",
    "    return \"the letter in capital\"\n",
    "\n",
    "print(\"main module of application begins here \")\n",
    "print(\"calling to decorator \")\n",
    "print(outmessage())"
   ]
  }
 ],
 "metadata": {
  "kernelspec": {
   "display_name": "Python 3",
   "language": "python",
   "name": "python3"
  },
  "language_info": {
   "codemirror_mode": {
    "name": "ipython",
    "version": 3
   },
   "file_extension": ".py",
   "mimetype": "text/x-python",
   "name": "python",
   "nbconvert_exporter": "python",
   "pygments_lexer": "ipython3",
   "version": "3.8.3"
  }
 },
 "nbformat": 4,
 "nbformat_minor": 4
}
