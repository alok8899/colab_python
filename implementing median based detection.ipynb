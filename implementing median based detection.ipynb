{
 "cells": [
  {
   "cell_type": "markdown",
   "metadata": {},
   "source": [
    "# local context ()\n",
    "## by  median method\n",
    "ge can bet the outlier \n",
    "we are accepting lagitimate value or going to consider it is a outliner value oe noise value"
   ]
  },
  {
   "cell_type": "code",
   "execution_count": 3,
   "metadata": {
    "scrolled": true
   },
   "outputs": [
    {
     "name": "stdout",
     "output_type": "stream",
     "text": [
      "   ID       City  Items   Price Payment   Tax Transaction\n",
      "0   1    Colombo      3   500.0       ?  0.25         yes\n",
      "1   2  Singapore      2  1500.0       0  0.31         yes\n",
      "2   3  Singapore      4  2000.0       1  1.20         yes\n",
      "3   4      Tokyo   4300  1300.0       0  0.80          no\n",
      "4   5  Melbourne      6     1.3       0  0.50          no\n",
      "5   6  Singapore      4  1800.0       1  0.30          no\n",
      "6   7          ?      5   700.0       1  0.40         yes\n"
     ]
    },
    {
     "data": {
      "text/html": [
       "<div>\n",
       "<style scoped>\n",
       "    .dataframe tbody tr th:only-of-type {\n",
       "        vertical-align: middle;\n",
       "    }\n",
       "\n",
       "    .dataframe tbody tr th {\n",
       "        vertical-align: top;\n",
       "    }\n",
       "\n",
       "    .dataframe thead th {\n",
       "        text-align: right;\n",
       "    }\n",
       "</style>\n",
       "<table border=\"1\" class=\"dataframe\">\n",
       "  <thead>\n",
       "    <tr style=\"text-align: right;\">\n",
       "      <th></th>\n",
       "      <th>ID</th>\n",
       "      <th>City</th>\n",
       "      <th>Items</th>\n",
       "      <th>Price</th>\n",
       "      <th>Payment</th>\n",
       "      <th>Tax</th>\n",
       "      <th>Transaction</th>\n",
       "    </tr>\n",
       "  </thead>\n",
       "  <tbody>\n",
       "    <tr>\n",
       "      <th>0</th>\n",
       "      <td>1</td>\n",
       "      <td>Colombo</td>\n",
       "      <td>3</td>\n",
       "      <td>500.0</td>\n",
       "      <td>?</td>\n",
       "      <td>0.25</td>\n",
       "      <td>yes</td>\n",
       "    </tr>\n",
       "    <tr>\n",
       "      <th>1</th>\n",
       "      <td>2</td>\n",
       "      <td>Singapore</td>\n",
       "      <td>2</td>\n",
       "      <td>1500.0</td>\n",
       "      <td>0</td>\n",
       "      <td>0.31</td>\n",
       "      <td>yes</td>\n",
       "    </tr>\n",
       "    <tr>\n",
       "      <th>2</th>\n",
       "      <td>3</td>\n",
       "      <td>Singapore</td>\n",
       "      <td>4</td>\n",
       "      <td>2000.0</td>\n",
       "      <td>1</td>\n",
       "      <td>1.20</td>\n",
       "      <td>yes</td>\n",
       "    </tr>\n",
       "    <tr>\n",
       "      <th>3</th>\n",
       "      <td>4</td>\n",
       "      <td>Tokyo</td>\n",
       "      <td>4300</td>\n",
       "      <td>1300.0</td>\n",
       "      <td>0</td>\n",
       "      <td>0.80</td>\n",
       "      <td>no</td>\n",
       "    </tr>\n",
       "    <tr>\n",
       "      <th>4</th>\n",
       "      <td>5</td>\n",
       "      <td>Melbourne</td>\n",
       "      <td>6</td>\n",
       "      <td>1.3</td>\n",
       "      <td>0</td>\n",
       "      <td>0.50</td>\n",
       "      <td>no</td>\n",
       "    </tr>\n",
       "    <tr>\n",
       "      <th>5</th>\n",
       "      <td>6</td>\n",
       "      <td>Singapore</td>\n",
       "      <td>4</td>\n",
       "      <td>1800.0</td>\n",
       "      <td>1</td>\n",
       "      <td>0.30</td>\n",
       "      <td>no</td>\n",
       "    </tr>\n",
       "    <tr>\n",
       "      <th>6</th>\n",
       "      <td>7</td>\n",
       "      <td>?</td>\n",
       "      <td>5</td>\n",
       "      <td>700.0</td>\n",
       "      <td>1</td>\n",
       "      <td>0.40</td>\n",
       "      <td>yes</td>\n",
       "    </tr>\n",
       "  </tbody>\n",
       "</table>\n",
       "</div>"
      ],
      "text/plain": [
       "   ID       City  Items   Price Payment   Tax Transaction\n",
       "0   1    Colombo      3   500.0       ?  0.25         yes\n",
       "1   2  Singapore      2  1500.0       0  0.31         yes\n",
       "2   3  Singapore      4  2000.0       1  1.20         yes\n",
       "3   4      Tokyo   4300  1300.0       0  0.80          no\n",
       "4   5  Melbourne      6     1.3       0  0.50          no\n",
       "5   6  Singapore      4  1800.0       1  0.30          no\n",
       "6   7          ?      5   700.0       1  0.40         yes"
      ]
     },
     "execution_count": 3,
     "metadata": {},
     "output_type": "execute_result"
    }
   ],
   "source": [
    "import pandas as pd\n",
    "filedata=pd.read_csv('D:\\\\Python_test\\\\dataset.csv')\n",
    "print(filedata)\n",
    "filedata"
   ]
  },
  {
   "cell_type": "code",
   "execution_count": 14,
   "metadata": {
    "scrolled": true
   },
   "outputs": [],
   "source": [
    "item_column=filedata.iloc[:,2].values\n",
    "labels=filedata.iloc[:,6].values"
   ]
  },
  {
   "cell_type": "code",
   "execution_count": 19,
   "metadata": {},
   "outputs": [
    {
     "data": {
      "text/plain": [
       "(array([   3,    2,    4, 4300,    6,    4,    5], dtype=int64),\n",
       " array(['yes', 'yes', 'yes', 'no', 'no', 'no', 'yes'], dtype=object))"
      ]
     },
     "execution_count": 19,
     "metadata": {},
     "output_type": "execute_result"
    }
   ],
   "source": [
    "item_column,labels"
   ]
  },
  {
   "cell_type": "code",
   "execution_count": 21,
   "metadata": {},
   "outputs": [
    {
     "name": "stdout",
     "output_type": "stream",
     "text": [
      "4.0\n"
     ]
    },
    {
     "data": {
      "text/plain": [
       "(-8.0, 16.0)"
      ]
     },
     "execution_count": 21,
     "metadata": {},
     "output_type": "execute_result"
    }
   ],
   "source": [
    "import numpy as np\n",
    "median=np.median(item_column)\n",
    "print(median)\n",
    "\n",
    "cutoff=median*3\n",
    "\n",
    "lower,upper=median-cutoff,median+cutoff\n",
    "lower,upper"
   ]
  },
  {
   "cell_type": "code",
   "execution_count": 30,
   "metadata": {},
   "outputs": [
    {
     "name": "stdout",
     "output_type": "stream",
     "text": [
      "4300\n"
     ]
    }
   ],
   "source": [
    "for row_data in item_column:\n",
    "    if row_data<lower or row_data>upper:\n",
    "        print(row_data)"
   ]
  },
  {
   "cell_type": "markdown",
   "metadata": {},
   "source": [
    "to fond no data compared to another column"
   ]
  },
  {
   "cell_type": "code",
   "execution_count": 8,
   "metadata": {},
   "outputs": [],
   "source": [
    "yes_item=filedata[filedata['Transaction']=='yes'].iloc[:,2].values\n",
    "no_item=filedata[filedata['Transaction']=='no'].iloc[:,2].values\n"
   ]
  },
  {
   "cell_type": "code",
   "execution_count": 10,
   "metadata": {
    "scrolled": true
   },
   "outputs": [
    {
     "name": "stdout",
     "output_type": "stream",
     "text": [
      "[3 2 4 5] [4300    6    4]\n"
     ]
    }
   ],
   "source": [
    "print(yes_item,no_item)"
   ]
  },
  {
   "cell_type": "code",
   "execution_count": 24,
   "metadata": {},
   "outputs": [
    {
     "name": "stdout",
     "output_type": "stream",
     "text": [
      "3.5\n"
     ]
    },
    {
     "data": {
      "text/plain": [
       "(-7.0, 14.0)"
      ]
     },
     "execution_count": 24,
     "metadata": {},
     "output_type": "execute_result"
    }
   ],
   "source": [
    "# range of normality for the lebel yes\n",
    "yes_median=np.median(yes_item)\n",
    "print(yes_median)\n",
    "\n",
    "yes_cutoff=yes_median*3\n",
    "\n",
    "yes_lower_cutoff=yes_median-yes_cutoff\n",
    "yes_upper_cutoff=yes_median+yes_cutoff\n",
    "\n",
    "yes_lower_cutoff,yes_upper_cutoff"
   ]
  },
  {
   "cell_type": "code",
   "execution_count": 25,
   "metadata": {},
   "outputs": [
    {
     "name": "stdout",
     "output_type": "stream",
     "text": [
      "6.0\n"
     ]
    },
    {
     "data": {
      "text/plain": [
       "(-12.0, 24.0)"
      ]
     },
     "execution_count": 25,
     "metadata": {},
     "output_type": "execute_result"
    }
   ],
   "source": [
    "# range of normality for the lebel no\n",
    "no_median=np.median(no_item)\n",
    "print(no_median)\n",
    "\n",
    "no_cutoff=no_median*3\n",
    "\n",
    "no_lower_cutoff=no_median-no_cutoff\n",
    "no_upper_cutoff=no_median+no_cutoff\n",
    "\n",
    "no_lower_cutoff,no_upper_cutoff"
   ]
  },
  {
   "cell_type": "code",
   "execution_count": 26,
   "metadata": {},
   "outputs": [],
   "source": [
    "# detecting noise value for yes lebel\n",
    "\n",
    "for yes_rowdata in yes_item:\n",
    "    if yes_rowdata < yes_lower_cutoff or yes_rowdata > yes_upper_cutoff:\n",
    "        print(yes_rowdata)"
   ]
  },
  {
   "cell_type": "code",
   "execution_count": 29,
   "metadata": {},
   "outputs": [
    {
     "name": "stdout",
     "output_type": "stream",
     "text": [
      "4300\n"
     ]
    }
   ],
   "source": [
    "# detecting noise value for no lebel\n",
    "\n",
    "for no_rowdata in no_item:\n",
    "    if no_rowdata < no_lower_cutoff or no_rowdata > no_upper_cutoff:\n",
    "        print(no_rowdata)"
   ]
  }
 ],
 "metadata": {
  "kernelspec": {
   "display_name": "Python 3",
   "language": "python",
   "name": "python3"
  },
  "language_info": {
   "codemirror_mode": {
    "name": "ipython",
    "version": 3
   },
   "file_extension": ".py",
   "mimetype": "text/x-python",
   "name": "python",
   "nbconvert_exporter": "python",
   "pygments_lexer": "ipython3",
   "version": "3.8.3"
  }
 },
 "nbformat": 4,
 "nbformat_minor": 4
}
