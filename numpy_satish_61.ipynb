{
 "cells": [
  {
   "cell_type": "code",
   "execution_count": 1,
   "metadata": {
    "scrolled": true
   },
   "outputs": [
    {
     "name": "stdout",
     "output_type": "stream",
     "text": [
      "hai\n"
     ]
    }
   ],
   "source": [
    "print(\"hai\")"
   ]
  },
  {
   "cell_type": "code",
   "execution_count": 5,
   "metadata": {},
   "outputs": [],
   "source": []
  },
  {
   "cell_type": "code",
   "execution_count": 29,
   "metadata": {},
   "outputs": [],
   "source": [
    "sdarray=np.array([[11,45,55]])"
   ]
  },
  {
   "cell_type": "code",
   "execution_count": 30,
   "metadata": {},
   "outputs": [
    {
     "name": "stdout",
     "output_type": "stream",
     "text": [
      "[[11 45 55]]\n"
     ]
    }
   ],
   "source": [
    "print(sdarray)"
   ]
  },
  {
   "cell_type": "code",
   "execution_count": 33,
   "metadata": {},
   "outputs": [
    {
     "name": "stdout",
     "output_type": "stream",
     "text": [
      "[[ 12  44 555]\n",
      " [ 22 452  42]]\n",
      "the dimention of array is  2\n",
      "the size of array is  4 byte\n",
      "the datatype of array is  int32\n",
      "the size of array is  6\n",
      "the shape of array is  (2, 3)\n",
      "[[ 12  44]\n",
      " [555  22]\n",
      " [452  42]]\n",
      "the dimention of array is  2\n",
      "the size of array is  4 byte\n",
      "the datatype of array is  int32\n",
      "the size of array is  6\n",
      "the shape of array is  (3, 2)\n"
     ]
    }
   ],
   "source": [
    "import numpy as np\n",
    "mdarray=np.array([[12,44,555],[22,452,42]])\n",
    "print(mdarray)\n",
    "print(\"the dimention of array is \",mdarray.ndim)\n",
    "print(\"the size of array is \",mdarray.itemsize,\"byte\")\n",
    "print(\"the datatype of array is \",mdarray.dtype)\n",
    "print(\"the size of array is \",mdarray.size)\n",
    "print(\"the shape of array is \",mdarray.shape)\n",
    "reshapemdarray=mdarray.reshape(3,2)\n",
    "print(reshapemdarray)\n",
    "print(\"the dimention of array is \",reshapemdarray.ndim)\n",
    "print(\"the size of array is \",reshapemdarray.itemsize,\"byte\")\n",
    "print(\"the datatype of array is \",reshapemdarray.dtype)\n",
    "print(\"the size of array is \",reshapemdarray.size)\n",
    "print(\"the shape of array is \",reshapemdarray.shape)\n"
   ]
  },
  {
   "cell_type": "code",
   "execution_count": 7,
   "metadata": {},
   "outputs": [
    {
     "name": "stdout",
     "output_type": "stream",
     "text": [
      "[[ 12  44 555  22]\n",
      " [ 22 452  42  66]\n",
      " [  1  52  63  88]\n",
      " [ 92  42  36  44]\n",
      " [  1   2   3   4]]\n",
      "the slicing element (0,2) is:-  555\n",
      "the 2nd column data (0:,2) is:-\n",
      "  [555  42  63  36   3]\n",
      "the 3rd row data (2,0:) is:-\n",
      "  [ 1 52 63 88]\n",
      "the 3rd row data (0:2,1) is:-\n",
      "  [ 44 452]\n",
      "the 3rd row data (1:4,1) is:-\n",
      "  [452  52  42]\n",
      "the 3rd row data (1:2,1) is:-\n",
      "  [452]\n"
     ]
    }
   ],
   "source": [
    "import numpy as np\n",
    "mdarray=np.array([[12,44,555,22],[22,452,42,66],[1,52,63,88],[92,42,36,44],[1,2,3,4]])\n",
    "print(mdarray)\n",
    "print(\"the slicing element (0,2) is:- \",mdarray[0,2])\n",
    "print(\"the 2nd column data (0:,2) is:-\\n \",mdarray[0:,2]) #(row,column)\n",
    "print(\"the 3rd row data (2,0:) is:-\\n \",mdarray[2,0:]) #(row,column)\n",
    "print(\"the 3rd row data (0:2,1) is:-\\n \",mdarray[0:2,1])\n",
    "print(\"the 3rd row data (1:4,1) is:-\\n \",mdarray[1:4,1]) #1:4 means 1 to (4-1)\n",
    "print(\"the 3rd row data (1:2,1) is:-\\n \",mdarray[1:2,1])\n",
    "\n"
   ]
  },
  {
   "cell_type": "code",
   "execution_count": 10,
   "metadata": {},
   "outputs": [
    {
     "name": "stdout",
     "output_type": "stream",
     "text": [
      "printing the original element from the array\n",
      "[[10 17 25]]\n",
      "[[10. 17. 25.]\n",
      " [ 1.  5.  7.]]\n",
      "[[10 17 25]\n",
      " [ 1  5  7]]\n",
      "the array dimention is 2\n",
      "the array size is 6\n",
      "the array shape is (2, 3)\n",
      "the array item size is 4 byte\n",
      "[[10 17]\n",
      " [25  1]\n",
      " [ 5  7]]\n",
      "the array dimention is 2\n",
      "the array size is 6\n",
      "the array shape is (3, 2)\n",
      "the array item size is 4 byte\n",
      "the data of slicing is  25\n",
      "the data of slicing is  [25  7]\n",
      "the data of slicing is  [1 5 7]\n"
     ]
    }
   ],
   "source": [
    "\n",
    "#! python3\n",
    "\n",
    "import os\n",
    "os.system(\"cls\")\n",
    "\n",
    "import numpy as np\n",
    "\n",
    "sdarray = np.array([[10,17,25]])\n",
    "mdarray = np.array([[10,17,25],[1,5,7]])\n",
    "mdarray2 = np.array([[10,17,25],[1,5,7]],dtype=float)\n",
    "\n",
    "print(\"printing the original element from the array\")\n",
    "print(sdarray)\n",
    "print(mdarray2)\n",
    "print(mdarray)\n",
    "print(\"the array dimention is\",mdarray.ndim)\n",
    "print(\"the array size is\",mdarray.size)\n",
    "print(\"the array shape is\",mdarray.shape)\n",
    "print(\"the array item size is\",mdarray.itemsize,\"byte\")\n",
    "\n",
    "reshapearray = mdarray.reshape(3,2)\n",
    "print(reshapearray)\n",
    "print(\"the array dimention is\",reshapearray.ndim)\n",
    "print(\"the array size is\",reshapearray.size)\n",
    "print(\"the array shape is\",reshapearray.shape)\n",
    "print(\"the array item size is\",reshapearray.itemsize,\"byte\")\n",
    " \n",
    "\n",
    "print(\"the data of slicing is \",mdarray[0,2])\n",
    "print(\"the data of slicing is \",mdarray[0:,2])\n",
    "print(\"the data of slicing is \",mdarray[1,0:])\n"
   ]
  },
  {
   "cell_type": "code",
   "execution_count": 23,
   "metadata": {},
   "outputs": [
    {
     "name": "stdout",
     "output_type": "stream",
     "text": [
      "enter the row indexno to find from array 2\n",
      "the data for  2 row indexno is \n",
      " [11 44 88 77 66]\n",
      "enter the column indexno to find from array 2\n",
      "the data for  2 column indexno is \n",
      " [ 2  5 88 19]\n",
      "the dimention is  2\n",
      "the itemsize is  4 bytes\n",
      "the data type is  int32\n",
      "the size is  20\n",
      "the shape is  (4, 5)\n"
     ]
    }
   ],
   "source": [
    "#! python3\n",
    "\n",
    "import os\n",
    "import numpy as np\n",
    "os.system(\"cls\")\n",
    "mdarray=np.array([[7,8,2,6,9],[3,3,5,4,9],[11,44,88,77,66],[84,24,19,71,65]])\n",
    "indatarow=int(input(\"enter the row indexno to find from array \"))\n",
    "print(\"the data for \",indatarow,\"row indexno is \\n\",mdarray[indatarow,0:])\n",
    "indatacolumn=int(input(\"enter the column indexno to find from array \"))\n",
    "print(\"the data for \",indatacolumn,\"column indexno is \\n\",mdarray[0:,indatacolumn],end=\"\\n\")\n",
    "print(\"the dimention is \",mdarray.ndim)\n",
    "print(\"the itemsize is \",mdarray.itemsize,\"bytes\")\n",
    "print(\"the data type is \",mdarray.dtype)\n",
    "print(\"the element size is \",mdarray.size)\n",
    "print(\"the shape is \",mdarray.shape)\n"
   ]
  }
 ],
 "metadata": {
  "celltoolbar": "Raw Cell Format",
  "kernelspec": {
   "display_name": "Python 3",
   "language": "python",
   "name": "python3"
  },
  "language_info": {
   "codemirror_mode": {
    "name": "ipython",
    "version": 3
   },
   "file_extension": ".py",
   "mimetype": "text/x-python",
   "name": "python",
   "nbconvert_exporter": "python",
   "pygments_lexer": "ipython3",
   "version": "3.8.3"
  }
 },
 "nbformat": 4,
 "nbformat_minor": 4
}
